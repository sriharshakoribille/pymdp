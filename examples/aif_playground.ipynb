{
 "cells": [
  {
   "cell_type": "code",
   "execution_count": 1,
   "metadata": {},
   "outputs": [],
   "source": [
    "%reload_ext autoreload\n",
    "%autoreload 2\n",
    "\n",
    "import os\n",
    "import sys\n",
    "import pathlib\n",
    "import numpy as np\n",
    "\n",
    "from pymdp.agent import Agent\n",
    "from pymdp import utils, maths"
   ]
  },
  {
   "cell_type": "code",
   "execution_count": 2,
   "metadata": {},
   "outputs": [],
   "source": [
    "from pymdp.envs.grid_world_2 import GridWorldCueEnv"
   ]
  },
  {
   "cell_type": "code",
   "execution_count": 3,
   "metadata": {},
   "outputs": [],
   "source": [
    "# grid_dims = [5, 7] # dimensions of the grid (number of rows, number of columns)\n",
    "# num_grid_points = np.prod(grid_dims) # total number of grid locations (rows X columns)\n",
    "\n",
    "# # create a look-up table `loc_list` that maps linear indices to tuples of (y, x) coordinates \n",
    "# grid = np.arange(num_grid_points).reshape(grid_dims)\n",
    "# it = np.nditer(grid, flags=[\"multi_index\"])\n",
    "\n",
    "# loc_list = []\n",
    "# while not it.finished:\n",
    "#     loc_list.append(it.multi_index)\n",
    "#     it.iternext()\n",
    "\n",
    "# # (y, x) coordinate of the first cue's location, and then a list of the (y, x) coordinates of the possible locations of the second cue, and their labels (`L1`, `L2`, ...)\n",
    "# cue1_location = (2, 0)\n",
    "\n",
    "# cue2_loc_names = ['L1', 'L2', 'L3', 'L4']\n",
    "# cue2_locations = [(0, 2), (1, 3), (3, 3), (4, 2)]\n",
    "\n",
    "# # names of the reward conditions and their locations\n",
    "# reward_conditions = [\"TOP\", \"BOTTOM\"]\n",
    "# reward_locations = [(1, 5), (3, 5)]\n"
   ]
  },
  {
   "cell_type": "code",
   "execution_count": 4,
   "metadata": {},
   "outputs": [],
   "source": [
    "# # list of dimensionalities of the hidden states -- useful for creating generative model later on\n",
    "# num_states = [num_grid_points, len(cue2_locations), len(reward_conditions)]\n",
    "\n",
    "# # Names of the cue1 observation levels, the cue2 observation levels, and the reward observation levels\n",
    "# cue1_names = ['Null'] + cue2_loc_names # signals for the possible Cue 2 locations, that only are seen when agent is visiting Cue 1\n",
    "# cue2_names = ['Null', 'reward_on_top', 'reward_on_bottom']\n",
    "# reward_names = ['Null', 'Cheese', 'Shock']\n",
    "\n",
    "# num_obs = [num_grid_points, len(cue1_names), len(cue2_names), len(reward_names)]"
   ]
  },
  {
   "cell_type": "code",
   "execution_count": 5,
   "metadata": {},
   "outputs": [
    {
     "name": "stdout",
     "output_type": "stream",
     "text": [
      "Starting location is (0, 0), Reward condition is A, cue is located in L2\n"
     ]
    }
   ],
   "source": [
    "my_env = GridWorldCueEnv(starting_loc = (0,0), cue1_loc = (2, 0), cue2 = 'L2', reward_condition = 'A')"
   ]
  },
  {
   "cell_type": "code",
   "execution_count": 6,
   "metadata": {},
   "outputs": [
    {
     "data": {
      "image/png": "[encoded data removed]",
      "text/plain": [
       "<Figure size 1000x600 with 1 Axes>"
      ]
     },
     "metadata": {},
     "output_type": "display_data"
    }
   ],
   "source": [
    "my_env.plot_empty_grid()"
   ]
  },
  {
   "cell_type": "code",
   "execution_count": 7,
   "metadata": {},
   "outputs": [],
   "source": [
    "num_states = my_env.num_states\n",
    "num_obs = my_env.num_obs\n",
    "num_grid_points = my_env.num_grid_points\n",
    "cue1_location = my_env.cue1_loc\n",
    "cue2_locations = my_env.cue2_locations\n",
    "loc_list = my_env.loc_list\n",
    "reward_locations = my_env.reward_locations\n",
    "grid_dims = my_env.grid_dims\n",
    "cue1_names = my_env.cue1_names\n",
    "cue2_names = my_env.cue2_names\n",
    "reward_names = my_env.reward_names"
   ]
  },
  {
   "cell_type": "markdown",
   "metadata": {},
   "source": [
    "### The observation model: **A** array\n",
    "Now using `num_states` and `num_obs` we can initialize `A`, the observation model"
   ]
  },
  {
   "cell_type": "code",
   "execution_count": 8,
   "metadata": {},
   "outputs": [],
   "source": [
    "A_m_shapes = [ [o_dim] + num_states for o_dim in num_obs] # list of shapes of modality-specific A[m] arrays\n",
    "A = utils.obj_array_zeros(A_m_shapes) # initialize A array to an object array of all-zero subarrays"
   ]
  },
  {
   "cell_type": "code",
   "execution_count": 9,
   "metadata": {},
   "outputs": [],
   "source": [
    "# make the location observation only depend on the location state (proprioceptive observation modality)\n",
    "A[0] = np.tile(np.expand_dims(np.eye(num_grid_points), (-2, -1)), (1, 1, num_states[1], num_states[2]))"
   ]
  },
  {
   "cell_type": "code",
   "execution_count": 10,
   "metadata": {},
   "outputs": [],
   "source": [
    "# make the cue1 observation depend on the location (being at cue1_location) and the true location of cue2\n",
    "A[1][0,:,:,:] = 1.0 # default makes Null the most likely observation everywhere\n",
    "\n",
    "# Make the Cue 1 signal depend on 1) being at the Cue 1 location and 2) the location of Cue 2\n",
    "for i, cue_loc2_i in enumerate(cue2_locations):\n",
    "    A[1][0,loc_list.index(cue1_location),i,:] = 0.0\n",
    "    A[1][i+1,loc_list.index(cue1_location),i,:] = 1.0"
   ]
  },
  {
   "cell_type": "code",
   "execution_count": 11,
   "metadata": {},
   "outputs": [],
   "source": [
    "# make the cue2 observation depend on the location (being at the correct cue2_location) and the reward condition\n",
    "A[2][0,:,:,:] = 1.0 # default makes Null the most likely observation everywhere\n",
    "\n",
    "for i, cue_loc2_i in enumerate(cue2_locations):\n",
    "\n",
    "    # if the cue2-location is the one you're currently at, then you get a signal about where the reward is\n",
    "    A[2][0,loc_list.index(cue_loc2_i),i,:] = 0.0 \n",
    "    A[2][1,loc_list.index(cue_loc2_i),i,0] = 1.0\n",
    "    A[2][2,loc_list.index(cue_loc2_i),i,1] = 1.0"
   ]
  },
  {
   "cell_type": "code",
   "execution_count": 12,
   "metadata": {},
   "outputs": [],
   "source": [
    "# make the reward observation depend on the location (being at reward location) and the reward condition\n",
    "A[3][0,:,:,:] = 1.0 # default makes Null the most likely observation everywhere\n",
    "\n",
    "rew_top_idx = loc_list.index(reward_locations[0]) # linear index of the location of the \"TOP\" reward location\n",
    "rew_bott_idx = loc_list.index(reward_locations[1]) # linear index of the location of the \"BOTTOM\" reward location\n",
    "\n",
    "# fill out the contingencies when the agent is in the \"TOP\" reward location\n",
    "A[3][0,rew_top_idx,:,:] = 0.0\n",
    "A[3][1,rew_top_idx,:,0] = 1.0\n",
    "A[3][2,rew_top_idx,:,1] = 1.0\n",
    "\n",
    "# fill out the contingencies when the agent is in the \"BOTTOM\" reward location\n",
    "A[3][0,rew_bott_idx,:,:] = 0.0\n",
    "A[3][1,rew_bott_idx,:,1] = 1.0\n",
    "A[3][2,rew_bott_idx,:,0] = 1.0"
   ]
  },
  {
   "cell_type": "markdown",
   "metadata": {},
   "source": [
    "### The transition model: **B** array\n",
    "To create the `B` array or transition model, we have to further specify `num_controls`, which like `num_states` / `num_obs` is a list, but this time of the dimensionalities of each *control factor*, which are the hidden state factors that are controllable by the agent. Uncontrollable hidden state factors can be encoded as control factors of dimension 1. Once `num_controls` is defined, we can then use it and `num_states` to specify the dimensionality of the `B` arrays. Recall that in `pymdp` hidden state factors are conditionally independent of eachother, meaning that each sub-array `B[f]` describes the dynamics of only a single hidden state factor, and its probabilistic dependence on both its own state (at the previous time) and the state of its corresponding control factor.\n",
    "\n",
    "In the current grid world task, we will have the agent have the ability to make movements in the 4 cardinal directions (UP, DOWN, LEFT, RIGHT) as well as the option to stay in the same place (STAY). This means we will associate a single 5-dimensional control state factor with the first hidden state factor. \n",
    "\n",
    "*Note*: Make sure the indices of the `num_controls` variables \"lines up\" with those of `num_states`."
   ]
  },
  {
   "cell_type": "code",
   "execution_count": 13,
   "metadata": {},
   "outputs": [],
   "source": [
    "# initialize `num_controls`\n",
    "num_controls = [5, 1, 1]\n",
    "\n",
    "# initialize the shapes of each sub-array `B[f]`\n",
    "B_f_shapes = [ [ns, ns, num_controls[f]] for f, ns in enumerate(num_states)]\n",
    "\n",
    "# create the `B` array and fill it out\n",
    "B = utils.obj_array_zeros(B_f_shapes)"
   ]
  },
  {
   "cell_type": "code",
   "execution_count": 14,
   "metadata": {},
   "outputs": [],
   "source": [
    "actions = [\"UP\", \"DOWN\", \"LEFT\", \"RIGHT\", \"STAY\"]\n",
    "\n",
    "# fill out `B[0]` using the \n",
    "for action_id, action_label in enumerate(actions):\n",
    "\n",
    "  for curr_state, grid_location in enumerate(loc_list):\n",
    "\n",
    "    y, x = grid_location\n",
    "\n",
    "    if action_label == \"UP\":\n",
    "      next_y = y - 1 if y > 0 else y \n",
    "      next_x = x\n",
    "    elif action_label == \"DOWN\":\n",
    "      next_y = y + 1 if y < (grid_dims[0]-1) else y \n",
    "      next_x = x\n",
    "    elif action_label == \"LEFT\":\n",
    "      next_x = x - 1 if x > 0 else x \n",
    "      next_y = y\n",
    "    elif action_label == \"RIGHT\":\n",
    "      next_x = x + 1 if x < (grid_dims[1]-1) else x \n",
    "      next_y = y\n",
    "    elif action_label == \"STAY\":\n",
    "      next_x = x\n",
    "      next_y = y\n",
    "\n",
    "    new_location = (next_y, next_x)\n",
    "    next_state = loc_list.index(new_location)\n",
    "    B[0][next_state, curr_state, action_id] = 1.0"
   ]
  },
  {
   "cell_type": "code",
   "execution_count": 15,
   "metadata": {},
   "outputs": [],
   "source": [
    "B[1][:,:,0] = np.eye(num_states[1])\n",
    "B[2][:,:,0] = np.eye(num_states[2])"
   ]
  },
  {
   "cell_type": "markdown",
   "metadata": {},
   "source": [
    "### Prior preferences: the **C** vectors\n",
    "\n",
    "Now we specify the agent's prior over observations, also known as the \"prior preferences\" or \"goal vector.\" This is not technically a part of the same generative model used for inference of hidden states, but part of a special predictive generative model using for policy inference. \n",
    "\n",
    "Since the prior preferences are defined in `pymdp` as priors over observations, not states, so `C` will be an object array whose sub-arrays correspond to the priors over specific observation modalities, e.g `C[3]` encodes the prior preferences for different levels of the **Reward** observation modality."
   ]
  },
  {
   "cell_type": "code",
   "execution_count": 16,
   "metadata": {},
   "outputs": [],
   "source": [
    "C = utils.obj_array_zeros(num_obs)\n",
    "\n",
    "C[3][1] = 2.0 # make the agent want to encounter the \"Cheese\" observation level\n",
    "C[3][2] = -4.0 # make the agent not want to encounter the \"Shock\" observation level"
   ]
  },
  {
   "cell_type": "markdown",
   "metadata": {},
   "source": [
    "### Prior over (initial) hidden states: the **D** vectors\n",
    "\n",
    "Now we specify the agent's prior over initial hidden states, the `D` array. Since it's defined over the multi-factor hidden states in this case, `D` will be an object array whose sub-arrays correspond to the priors over specific hidden state factors, e.g `D[0]` encodes the prior beliefs over the initial location of the agent in the grid world."
   ]
  },
  {
   "cell_type": "code",
   "execution_count": 17,
   "metadata": {},
   "outputs": [],
   "source": [
    "D = utils.obj_array_uniform(num_states)\n",
    "D[0] = utils.onehot(loc_list.index((0,0)), num_grid_points)"
   ]
  },
  {
   "cell_type": "markdown",
   "metadata": {},
   "source": [
    "## Active Inference"
   ]
  },
  {
   "cell_type": "code",
   "execution_count": 18,
   "metadata": {},
   "outputs": [
    {
     "name": "stdout",
     "output_type": "stream",
     "text": [
      "Re-initialized location to (0, 0)\n"
     ]
    }
   ],
   "source": [
    "my_agent = Agent(A = A, B = B, C = C, D = D, policy_len = 4)\n",
    "\n",
    "loc_obs, cue1_obs, cue2_obs, reward_obs = my_env.reset()"
   ]
  },
  {
   "cell_type": "markdown",
   "metadata": {},
   "source": [
    "### Run an active inference loop over time\n",
    "...saving the history of the rat's locations as you do so. Include some print statements if you want to see the output of the agent's choices as they unfold."
   ]
  },
  {
   "cell_type": "code",
   "execution_count": 19,
   "metadata": {},
   "outputs": [
    {
     "name": "stdout",
     "output_type": "stream",
     "text": [
      "Action at time 0: DOWN\n",
      "Grid location at time 0: (1, 0)\n",
      "Reward at time 0: Null\n",
      "Action at time 1: DOWN\n",
      "Grid location at time 1: (2, 0)\n",
      "Reward at time 1: Null\n",
      "Action at time 2: RIGHT\n",
      "Grid location at time 2: (2, 1)\n",
      "Reward at time 2: Null\n",
      "Action at time 3: RIGHT\n",
      "Grid location at time 3: (2, 2)\n",
      "Reward at time 3: Null\n",
      "Action at time 4: RIGHT\n",
      "Grid location at time 4: (2, 3)\n",
      "Reward at time 4: Null\n",
      "Action at time 5: UP\n",
      "Grid location at time 5: (1, 3)\n",
      "Reward at time 5: Null\n",
      "Action at time 6: RIGHT\n",
      "Grid location at time 6: (1, 4)\n",
      "Reward at time 6: Null\n",
      "Action at time 7: RIGHT\n",
      "Grid location at time 7: (1, 5)\n",
      "Reward at time 7: Cheese\n",
      "Action at time 8: STAY\n",
      "Grid location at time 8: (1, 5)\n",
      "Reward at time 8: Cheese\n",
      "Action at time 9: STAY\n",
      "Grid location at time 9: (1, 5)\n",
      "Reward at time 9: Cheese\n"
     ]
    }
   ],
   "source": [
    "history_of_locs = [loc_obs]\n",
    "obs = [loc_list.index(loc_obs), cue1_names.index(cue1_obs), cue2_names.index(cue2_obs), reward_names.index(reward_obs)]\n",
    "\n",
    "T = 10 # number of total timesteps\n",
    "\n",
    "for t in range(T):\n",
    "\n",
    "    qs = my_agent.infer_states(obs)\n",
    "    \n",
    "    my_agent.infer_policies()\n",
    "    chosen_action_id = my_agent.sample_action()\n",
    "\n",
    "    movement_id = int(chosen_action_id[0])\n",
    "\n",
    "    choice_action = actions[movement_id]\n",
    "\n",
    "    print(f'Action at time {t}: {choice_action}')\n",
    "\n",
    "    loc_obs, cue1_obs, cue2_obs, reward_obs = my_env.step(choice_action)\n",
    "\n",
    "    obs = [loc_list.index(loc_obs), cue1_names.index(cue1_obs), cue2_names.index(cue2_obs), reward_names.index(reward_obs)]\n",
    "\n",
    "    history_of_locs.append(loc_obs)\n",
    "\n",
    "    print(f'Grid location at time {t}: {loc_obs}')\n",
    "\n",
    "    print(f'Reward at time {t}: {reward_obs}')\n"
   ]
  },
  {
   "cell_type": "code",
   "execution_count": 20,
   "metadata": {},
   "outputs": [
    {
     "data": {
      "image/png": "[encoded data removed]",
      "text/plain": [
       "<Figure size 1000x600 with 1 Axes>"
      ]
     },
     "metadata": {},
     "output_type": "display_data"
    }
   ],
   "source": [
    "my_env.plot_movement(history_of_locs, T=T)"
   ]
  }
 ],
 "metadata": {
  "kernelspec": {
   "display_name": "aif_env",
   "language": "python",
   "name": "python3"
  },
  "language_info": {
   "codemirror_mode": {
    "name": "ipython",
    "version": 3
   },
   "file_extension": ".py",
   "mimetype": "text/x-python",
   "name": "python",
   "nbconvert_exporter": "python",
   "pygments_lexer": "ipython3",
   "version": "3.8.10"
  }
 },
 "nbformat": 4,
 "nbformat_minor": 2
}
